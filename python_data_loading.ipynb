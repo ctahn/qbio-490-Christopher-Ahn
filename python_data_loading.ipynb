{
 "cells": [
  {
   "cell_type": "code",
   "execution_count": 2,
   "id": "4fad4ea5",
   "metadata": {},
   "outputs": [
    {
     "ename": "FileNotFoundError",
     "evalue": "[Errno 2] No such file or directory: '/User/christopherahn/Documents/QBIO_490/qbio-490-Christopher-Ahn/analysis_data'",
     "output_type": "error",
     "traceback": [
      "\u001b[0;31m---------------------------------------------------------------------------\u001b[0m",
      "\u001b[0;31mFileNotFoundError\u001b[0m                         Traceback (most recent call last)",
      "Cell \u001b[0;32mIn[2], line 2\u001b[0m\n\u001b[1;32m      1\u001b[0m \u001b[38;5;28;01mimport\u001b[39;00m \u001b[38;5;21;01mos\u001b[39;00m\n\u001b[0;32m----> 2\u001b[0m \u001b[43mos\u001b[49m\u001b[38;5;241;43m.\u001b[39;49m\u001b[43mchdir\u001b[49m\u001b[43m(\u001b[49m\u001b[38;5;124;43m'\u001b[39;49m\u001b[38;5;124;43m/User/christopherahn/Documents/QBIO_490/qbio-490-Christopher-Ahn/analysis_data\u001b[39;49m\u001b[38;5;124;43m'\u001b[39;49m\u001b[43m)\u001b[49m\n\u001b[1;32m      3\u001b[0m \u001b[38;5;28;01mimport\u001b[39;00m \u001b[38;5;21;01mcptac\u001b[39;00m\n\u001b[1;32m      4\u001b[0m cptac\u001b[38;5;241m.\u001b[39mdownload(dataset\u001b[38;5;241m=\u001b[39m\u001b[38;5;124m\"\u001b[39m\u001b[38;5;124mBrca\u001b[39m\u001b[38;5;124m\"\u001b[39m)\n",
      "\u001b[0;31mFileNotFoundError\u001b[0m: [Errno 2] No such file or directory: '/User/christopherahn/Documents/QBIO_490/qbio-490-Christopher-Ahn/analysis_data'"
     ]
    }
   ],
   "source": [
    "import os\n",
    "os.chdir('/User/christopherahn/Documents/QBIO_490/qbio-490-Christopher-Ahn/analysis_data')\n",
    "import cptac\n",
    "cptac.download(dataset=\"Brca\")"
   ]
  },
  {
   "cell_type": "code",
   "execution_count": 3,
   "id": "2ef501bb",
   "metadata": {},
   "outputs": [
    {
     "ename": "FileNotFoundError",
     "evalue": "[Errno 2] No such file or directory: '/User/christopherahn/Documents/QBIO_490/qbio-490-Christopher-Ahn/analysis_data'",
     "output_type": "error",
     "traceback": [
      "\u001b[0;31m---------------------------------------------------------------------------\u001b[0m",
      "\u001b[0;31mFileNotFoundError\u001b[0m                         Traceback (most recent call last)",
      "Cell \u001b[0;32mIn[3], line 2\u001b[0m\n\u001b[1;32m      1\u001b[0m \u001b[38;5;28;01mimport\u001b[39;00m \u001b[38;5;21;01mos\u001b[39;00m\n\u001b[0;32m----> 2\u001b[0m \u001b[43mos\u001b[49m\u001b[38;5;241;43m.\u001b[39;49m\u001b[43mchdir\u001b[49m\u001b[43m(\u001b[49m\u001b[38;5;124;43m'\u001b[39;49m\u001b[38;5;124;43m/User/christopherahn/Documents/QBIO_490/qbio-490-Christopher-Ahn/analysis_data\u001b[39;49m\u001b[38;5;124;43m'\u001b[39;49m\u001b[43m)\u001b[49m\n\u001b[1;32m      3\u001b[0m \u001b[38;5;28;01mimport\u001b[39;00m \u001b[38;5;21;01mcptac\u001b[39;00m\n\u001b[1;32m      4\u001b[0m cptac\u001b[38;5;241m.\u001b[39mdownload(dataset\u001b[38;5;241m=\u001b[39m\u001b[38;5;124m\"\u001b[39m\u001b[38;5;124mBrca\u001b[39m\u001b[38;5;124m\"\u001b[39m)\n",
      "\u001b[0;31mFileNotFoundError\u001b[0m: [Errno 2] No such file or directory: '/User/christopherahn/Documents/QBIO_490/qbio-490-Christopher-Ahn/analysis_data'"
     ]
    }
   ],
   "source": [
    "import os\n",
    "os.chdir('/User/christopherahn/Documents/QBIO_490/qbio-490-Christopher-Ahn/analysis_data')\n",
    "import cptac\n",
    "cptac.download(dataset=\"Brca\")"
   ]
  },
  {
   "cell_type": "code",
   "execution_count": null,
   "id": "d940c702",
   "metadata": {},
   "outputs": [],
   "source": [
    "/Users/christopherahn/Documents/QBIO_490/qbio-490-Christopher-Ahn"
   ]
  },
  {
   "cell_type": "code",
   "execution_count": 6,
   "id": "38c7cba1",
   "metadata": {},
   "outputs": [
    {
     "name": "stdout",
     "output_type": "stream",
     "text": [
      "                                         \r"
     ]
    },
    {
     "data": {
      "text/plain": [
       "True"
      ]
     },
     "execution_count": 6,
     "metadata": {},
     "output_type": "execute_result"
    }
   ],
   "source": [
    "import os\n",
    "os.chdir('/Users/christopherahn/Documents/QBIO_490/qbio-490-Christopher-Ahn/analysis_data')\n",
    "import cptac\n",
    "cptac.download(dataset=\"Brca\")"
   ]
  },
  {
   "cell_type": "code",
   "execution_count": null,
   "id": "a332fda3",
   "metadata": {},
   "outputs": [],
   "source": []
  },
  {
   "cell_type": "code",
   "execution_count": null,
   "id": "7c6295d6",
   "metadata": {},
   "outputs": [],
   "source": []
  },
  {
   "cell_type": "code",
   "execution_count": null,
   "id": "a29f3ea1",
   "metadata": {},
   "outputs": [],
   "source": []
  }
 ],
 "metadata": {
  "kernelspec": {
   "display_name": "Python 3 (ipykernel)",
   "language": "python",
   "name": "python3"
  },
  "language_info": {
   "codemirror_mode": {
    "name": "ipython",
    "version": 3
   },
   "file_extension": ".py",
   "mimetype": "text/x-python",
   "name": "python",
   "nbconvert_exporter": "python",
   "pygments_lexer": "ipython3",
   "version": "3.9.16"
  }
 },
 "nbformat": 4,
 "nbformat_minor": 5
}
